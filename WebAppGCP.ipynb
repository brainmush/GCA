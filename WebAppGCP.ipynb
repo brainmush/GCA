{
 "cells": [
  {
   "cell_type": "code",
   "execution_count": 1,
   "id": "368d13ed-5f09-4464-ad1c-4cbccfd3be2a",
   "metadata": {},
   "outputs": [],
   "source": [
    "import os\n",
    "\n",
    "from flask import Flask\n",
    "\n",
    "from pywebio.input import *\n",
    "from pywebio.output import *\n",
    "from pywebio import start_server\n",
    "import time\n",
    "import re\n",
    "from selenium import webdriver\n",
    "from bs4 import BeautifulSoup\n",
    "import pandas as pd\n",
    "from selenium.webdriver.chrome.options import Options\n",
    "from selenium.webdriver.chrome.service import Service\n",
    "from selenium.webdriver.common.by import By\n",
    "\n",
    "CHROMEDRIVER_PATH = '/usr/local/bin/chromedriver'\n",
    "s = Service(CHROMEDRIVER_PATH)\n",
    "WINDOW_SIZE = \"1920,1080\"\n",
    "\n",
    "# Options\n",
    "chrome_options = Options()\n",
    "chrome_options.add_argument(\"--headless\")\n",
    "chrome_options.add_argument(\"--window-size=%s\" % WINDOW_SIZE)\n",
    "chrome_options.add_argument('--no-sandbox')\n",
    "driver = webdriver.Chrome(#service=s,\n",
    "    options=chrome_options)\n"
   ]
  },
  {
   "cell_type": "code",
   "execution_count": 2,
   "id": "40f7e577-6ae7-406d-9800-8d601c4fe2c6",
   "metadata": {},
   "outputs": [
    {
     "ename": "SyntaxError",
     "evalue": "invalid syntax (2417086203.py, line 9)",
     "output_type": "error",
     "traceback": [
      "\u001b[0;36m  Input \u001b[0;32mIn [2]\u001b[0;36m\u001b[0m\n\u001b[0;31m    gene_aliases = []\u001b[0m\n\u001b[0m    ^\u001b[0m\n\u001b[0;31mSyntaxError\u001b[0m\u001b[0;31m:\u001b[0m invalid syntax\n"
     ]
    }
   ],
   "source": [
    "app = Flask(__name__)\n",
    "\n",
    "env_config = os.getenv(\"APP_SETTINGS\", \"config.DevelopmentConfig\")\n",
    "\n",
    "app.config.from_object(env_config)\n",
    "@app.route(\"/\")\n",
    "\n",
    "gene_aliases = []\n",
    "marker_aliases = []\n",
    "\n",
    "\n",
    "def app():\n",
    "\n",
    "    put_markdown('## GeneCard alias generator')\n",
    "    #put_text(\"Please enter the gene name:\")\n",
    "    gene = input(\"GeneCards name\", type=TEXT, required = True)\n",
    "    \n",
    "    put_processbar('bar', auto_close=True)\n",
    "    for i in range(1, 11):\n",
    "        set_processbar('bar', i / 10)\n",
    "        time.sleep(0.1)\n",
    "        \n",
    "    get_webpage(gene)\n",
    "    \n",
    "    process_aliases(gene_aliases)\n",
    "\n",
    "    marker_aliases2 = list(set(marker_aliases))\n",
    "    res = [i for n, i in enumerate(marker_aliases) if i not in marker_aliases[:n]]\n",
    "    put_success(\"Done\")\n",
    "    put_text(str(gene_aliases[0]) + \" aliases:\").style('color: black; font-size: 20px')\n",
    "    put_text(*gene_aliases, sep =', ')\n",
    "    put_text(\"Markers:\").style('color: black; font-size: 20px')\n",
    "    put_text(*res, sep =', ')\n",
    "    clear(gene_aliases)\n",
    "    clear(marker_aliases)\n",
    "    #clear(gene)\n"
   ]
  },
  {
   "cell_type": "code",
   "execution_count": null,
   "id": "45e686ea-b64d-4f6a-b548-7e86a59aebbe",
   "metadata": {},
   "outputs": [],
   "source": [
    "def get_webpage(gene):\n",
    "    try:\n",
    "        put_processbar('bar', auto_close=True)\n",
    "        for i in range(1, 11):\n",
    "            set_processbar('bar', i / 10)\n",
    "            time.sleep(0.1)\n",
    "    \n",
    "        o = driver.get(\"https://www.genecards.org/cgi-bin/carddisp.pl?gene=\"+str(gene))\n",
    "        content = driver.page_source\n",
    "        soup = BeautifulSoup(content)\n",
    "        r = driver.current_url \n",
    "\n",
    "        \n",
    "        for a in soup.find('span', attrs={'class':'aliasMainName'}):\n",
    "            gene_aliases.append(a.text)\n",
    " \n",
    "        \n",
    "        for a in soup.find_all('span', itemprop = 'alternateName'):\n",
    "            gene_aliases.append(a.text)\n",
    "        \n",
    "        for i in range(len(gene_aliases)):\n",
    "            gene_aliases[i] = gene_aliases[i].upper()\n",
    "            \n",
    "        if str(gene.upper()) not in str(r.upper()):\n",
    "            put_text(\"I did not find what you were looking for, but here are results for \" + str(gene_aliases[0])).style('color: purple; font-size: 30px')\n",
    "            \n",
    "    except Exception as e: \n",
    "        put_text(\"Wrong gene name\").style('color: red; font-size: 30px')\n",
    "        raise\n",
    "   \n",
    "    "
   ]
  },
  {
   "cell_type": "code",
   "execution_count": null,
   "id": "a3cb2886-0a13-4926-b4d0-6b4831c46867",
   "metadata": {},
   "outputs": [],
   "source": [
    "def clear(lista):\n",
    "    lista.clear()"
   ]
  },
  {
   "cell_type": "code",
   "execution_count": null,
   "id": "1c2e169a-c3c7-46a2-b1b5-98df263597f4",
   "metadata": {},
   "outputs": [],
   "source": [
    "def process_aliases(gene_aliases):\n",
    "    put_processbar('bar', auto_close=True)\n",
    "    for i in range(1, 11):\n",
    "        set_processbar('bar', i / 10)\n",
    "        time.sleep(0.1)\n",
    "        \n",
    "    for j in gene_aliases:\n",
    "        if bool(re.search(r'\\d', j)) == True:\n",
    "            j1 = re.sub(\"[A-Z]+\", lambda ele: \"\" + ele[0] + \"_\",j)\n",
    "        else:\n",
    "            j1=j\n",
    "        j1=j1.replace(\"-\", \"?\")\n",
    "        j1=j1.replace(\"_?\", \"?\")\n",
    "        marker_aliases.append(j1)"
   ]
  },
  {
   "cell_type": "code",
   "execution_count": null,
   "id": "46c5d9d5-3d0e-4022-834d-7c41d2d5dfae",
   "metadata": {},
   "outputs": [],
   "source": [
    "# main function\n",
    "if __name__ == '__main__':\n",
    "\tstart_server(app, port=32420, debug=True)"
   ]
  },
  {
   "cell_type": "code",
   "execution_count": null,
   "id": "2e8bd44e-ee3e-445b-9dfe-cb75b45f8935",
   "metadata": {},
   "outputs": [],
   "source": []
  },
  {
   "cell_type": "code",
   "execution_count": null,
   "id": "29a4509c-edb0-41db-b69e-a8e2a200f453",
   "metadata": {},
   "outputs": [],
   "source": []
  }
 ],
 "metadata": {
  "kernelspec": {
   "display_name": "Python 3 (ipykernel)",
   "language": "python",
   "name": "python3"
  },
  "language_info": {
   "codemirror_mode": {
    "name": "ipython",
    "version": 3
   },
   "file_extension": ".py",
   "mimetype": "text/x-python",
   "name": "python",
   "nbconvert_exporter": "python",
   "pygments_lexer": "ipython3",
   "version": "3.8.13"
  }
 },
 "nbformat": 4,
 "nbformat_minor": 5
}
